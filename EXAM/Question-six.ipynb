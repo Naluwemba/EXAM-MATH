{
 "cells": [
  {
   "cell_type": "code",
   "execution_count": 2,
   "metadata": {},
   "outputs": [],
   "source": [
    "from numpy import random"
   ]
  },
  {
   "cell_type": "code",
   "execution_count": 3,
   "metadata": {},
   "outputs": [
    {
     "name": "stdout",
     "output_type": "stream",
     "text": [
      "[ 5  4  8  4  5  6  3  4  6  5  5  7  1  5  3  4  4  8  9  4  4  8  4  7\n",
      "  4  4  4  6  5  7  7  3  7  7  6 14  4  5  5  2  3  4  4  2  6  4  1  5\n",
      "  4  5  3 10  3  4  4 10  7  3  4  4  7  4  7  4  8  5  3  6  6  5  3  4\n",
      "  5  5  1  4  2  3  8  4  7  8  4  7  4  6  6  8  4  0  8  3  3 10  2  5\n",
      "  6  2  7  5  8  6  2  5  7  5  4  6  8  4  4  5  5  5  3  4  6  4  8  4\n",
      "  7  7  3  4  5  5  3  2  7  3  9  2  6 10  5  3  2  4  6  4  6  7  2  3\n",
      "  5  5  8  2  3  6  8  6  8  4  1  6  7  3 10  8  5  4  5  4  8 10  6  5\n",
      "  7  4  4  6  6  3  4  4  1  5  5  4  6  4  6  5  4  4  6  8  5  6  7  5\n",
      "  2  3  5  8  3  7  3  4  3  7  2  1  3  5  6  4 10  2  8  6  2  6  4  2\n",
      "  5  5  3  6  6  3  4  9  4  4  4  6  3  6  3  3  6  2  3  7  1  6  6  5\n",
      "  3  4  5  3  6  3  7  8  3  3  4  4  6  5  9  6  4  5  3  9  3  5  1  1\n",
      "  2  4  5  3  1  2  5  4  4  4  9  3  4  3  9  4 13  8  6  8  4  5  6  1\n",
      "  6  2  8  6  2  4  4  4  5  6  5  5  7  5  6  3  8  6  3  8  4  7  8  6\n",
      "  5  7  6  6  5  6  8  7  6  3 11  1  7  7  7  5  6  4  4  5  6  2  4  7\n",
      "  7  4  3  7  3  5  6  7  5  2  7  5  6 10  7  8  7  5  8  4  2  4  5  7\n",
      "  6 10  5  3  6  8  4  3  4 10  6  5  7  3  3  4  2  5  3  3  9  6  1  8\n",
      "  6  3  4  1  4  4  3  4  7  8  4  3  6  5  7  7  4  9  7  6  2  7  8  3\n",
      "  6  7 10  1  6  6  4  8  3  6  3  0  3  9  4  8  2  1  4  4  5  8  5  8\n",
      "  3  6  8  6  7  3  5  5  4  5  7  6  6 10  6  4  3  5  4  4  6  4  1  7\n",
      "  4  7  5  5  2  4  2  5  5  9  3  6  4  6  7  3  4  4  5  5  0  2  9  1\n",
      "  8  3  5  2  5  4  7  2  5  9  4  8  8  2  6  3  6  2  3  6  4  7  4 10\n",
      "  5  7  7  3  8  4  6  9  5  4 12  4  4  6  4  2  4  1  5  6  9  1  3  7\n",
      "  4  6  1  3  1  4  3  7  4  3  3  5 11  3  3  5  7  5  5  5  5  4  6  6\n",
      "  8  3  7  8  7  4  6  3  7  0  4  7  5 10  7  2  3  4  4  1  3  6  8  8\n",
      "  4  4 10  2  2  3  7  5  6  2  4  6  3  2  2  2  2  2  5  5  1  7  6  0\n",
      "  3  5  6  5  5  6  2  4  6  3  1  6  6  0  7  3  8  6  3  3  4  8  3  6\n",
      "  3  5  4  6  3  6  4  8  5  4  4  4  1  4 10  6  8  5  5  3  5  5  7  9\n",
      "  4  6  4  2  2  4  4  4  6  4  2  5  5  6  6  5  9  7  3  6  6  3  5  4\n",
      "  4  4  3  8  8  6  8  6  7  2  4  0  4  2  7  8  9  5  7  7  4  6  4  7\n",
      "  4  1  6  9  6  7  8  0  3  4  3  6  7  4  5  2  6  4  6  6  0  5  4  2\n",
      "  7 10  7  1  8  7  3  5  4  7  5  5  5  6  4  6  3  5  3  8  0  3  6  8\n",
      "  3  5  9  5  3  4  5  7  4  8  6  6  5  2  5  5  5 10  5  2  5  4 12  6\n",
      "  2  2  3  4  2  5  6  6  6  1 10  3  5  2  7  6  6  6  5 12  3  1  4  6\n",
      "  4  4  6  2  2  5  1 11  5  3  2  6  6  4  3  3  6  4  5  4  3  8  4  3\n",
      "  4  9  2  4  3  3  6  6  4 11  1  2  2  6  3  5  3 11  1  5  4  3  6  6\n",
      "  2  5  5  6  3  2  1  5  8  8  4  8  5  7  5  5  6  4  5  4  4  3  7  8\n",
      "  4  2  6  4  4  5  5  6  1  8  3  7  2  3  3  7  5  2  6  5  7  7  5  7\n",
      "  3  8 10  5  9  8  6  7  5  8  4  1  4  3  5  5  8  8  9  8  3  6  2  7\n",
      "  4  6  4  4  4  6  7  2  3  6  5  7  5  3  9  3  7  7  6  7 11  8  7  5\n",
      "  6  5  6  5  6  3  5  6 11  5  4  3  4  3  2  6  2  7  4 10  6  3  2  1\n",
      "  5  0  2  7  5 10  5  3  5  4  9  4  4  5  0  1  1  7  7 10  4  6  5  2\n",
      "  4  7  4  5  6  1  3  3  4  5  5  2  4  3  3 12]\n"
     ]
    }
   ],
   "source": [
    "#average = lam\n",
    "x = random.poisson(lam=5,size=1000)\n",
    "print(x)"
   ]
  },
  {
   "cell_type": "code",
   "execution_count": 10,
   "metadata": {},
   "outputs": [
    {
     "name": "stdout",
     "output_type": "stream",
     "text": [
      "4.966\n"
     ]
    }
   ],
   "source": [
    "#mean\n",
    "x_mean = x.mean()\n",
    "print(x_mean)"
   ]
  },
  {
   "cell_type": "code",
   "execution_count": 5,
   "metadata": {},
   "outputs": [
    {
     "name": "stdout",
     "output_type": "stream",
     "text": [
      "5.132844\n"
     ]
    }
   ],
   "source": [
    "#variance\n",
    "x_variance = x.var()\n",
    "print(x_variance)"
   ]
  },
  {
   "cell_type": "code",
   "execution_count": 6,
   "metadata": {},
   "outputs": [],
   "source": [
    "import seaborn as sns\n",
    "\n"
   ]
  },
  {
   "cell_type": "code",
   "execution_count": 7,
   "metadata": {},
   "outputs": [],
   "source": [
    "import matplotlib.pyplot as plt"
   ]
  },
  {
   "cell_type": "code",
   "execution_count": 8,
   "metadata": {},
   "outputs": [
    {
     "data": {
      "image/png": "[encoded data removed]",
      "text/plain": [
       "<Figure size 640x480 with 1 Axes>"
      ]
     },
     "metadata": {},
     "output_type": "display_data"
    }
   ],
   "source": [
    "#visualisation of the distribution\n",
    "\n",
    "data = random.poisson(lam=5,size=100)\n",
    "sns.histplot(data,kde=False,color=\"pink\")\n",
    "plt.xlabel(\"Number of Days\")\n",
    "plt.ylabel(\"Average Number\")\n",
    "plt.title(\"Visualisation Of My Data\")\n",
    "plt.show()\n"
   ]
  },
  {
   "cell_type": "code",
   "execution_count": null,
   "metadata": {},
   "outputs": [],
   "source": []
  }
 ],
 "metadata": {
  "kernelspec": {
   "display_name": "Python 3",
   "language": "python",
   "name": "python3"
  },
  "language_info": {
   "codemirror_mode": {
    "name": "ipython",
    "version": 3
   },
   "file_extension": ".py",
   "mimetype": "text/x-python",
   "name": "python",
   "nbconvert_exporter": "python",
   "pygments_lexer": "ipython3",
   "version": "3.11.5"
  }
 },
 "nbformat": 4,
 "nbformat_minor": 2
}
